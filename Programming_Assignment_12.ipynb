{
  "nbformat": 4,
  "nbformat_minor": 0,
  "metadata": {
    "colab": {
      "provenance": []
    },
    "kernelspec": {
      "name": "python3",
      "display_name": "Python 3"
    },
    "language_info": {
      "name": "python"
    }
  },
  "cells": [
    {
      "cell_type": "code",
      "execution_count": 1,
      "metadata": {
        "id": "KkTRVozvrbiJ"
      },
      "outputs": [],
      "source": [
        "#1. Write a Python program to Extract Unique values dictionary values?"
      ]
    },
    {
      "cell_type": "code",
      "source": [
        "def extract_unique_values(input_dict):\n",
        "\n",
        "    unique_values = set()\n",
        "\n",
        "\n",
        "    for values in input_dict.values():\n",
        "\n",
        "        if not isinstance(values, list):\n",
        "            unique_values.add(values)\n",
        "        else:\n",
        "\n",
        "            unique_values.update(values)\n",
        "\n",
        "    return unique_values\n",
        "\n",
        "\n",
        "example_dict = {\n",
        "    'key1': 10,\n",
        "    'key2': [20, 30, 40],\n",
        "    'key3': 10,\n",
        "    'key4': [20, 50, 30]\n",
        "}\n",
        "\n",
        "\n",
        "result = extract_unique_values(example_dict)\n",
        "print(\"Unique values:\", result)\n"
      ],
      "metadata": {
        "colab": {
          "base_uri": "https://localhost:8080/"
        },
        "id": "OaVuxuniteVZ",
        "outputId": "50965291-907a-4c12-914c-45b3b5626f7a"
      },
      "execution_count": 8,
      "outputs": [
        {
          "output_type": "stream",
          "name": "stdout",
          "text": [
            "Unique values: {40, 10, 50, 20, 30}\n"
          ]
        }
      ]
    },
    {
      "cell_type": "code",
      "source": [
        "#2. Write a Python program to find the sum of all items in a dictionary?"
      ],
      "metadata": {
        "id": "C3O-GWoLr8MZ"
      },
      "execution_count": 2,
      "outputs": []
    },
    {
      "cell_type": "code",
      "source": [
        "dict = {'v1' : 5,'v2' : 18,'v3' : 10,'v4' : 85}\n",
        "sum = 0\n",
        "for i in dict.values():\n",
        "    sum +=sum + i\n",
        "print(\"Sum of all values is : {}\".format(sum))"
      ],
      "metadata": {
        "colab": {
          "base_uri": "https://localhost:8080/"
        },
        "id": "CmKiCPkkuJRg",
        "outputId": "f7492960-bcb5-4017-fa9b-985e3aa24281"
      },
      "execution_count": 10,
      "outputs": [
        {
          "output_type": "stream",
          "name": "stdout",
          "text": [
            "Sum of all values is : 217\n"
          ]
        }
      ]
    },
    {
      "cell_type": "code",
      "source": [
        "#3. Write a Python program to Merging two Dictionaries?"
      ],
      "metadata": {
        "id": "0bimcL8br_TQ"
      },
      "execution_count": 3,
      "outputs": []
    },
    {
      "cell_type": "code",
      "source": [
        "dict1={'v1':'sheetal','v2':'jatti'}\n",
        "dict2={'v3':'neha','v4':'pawar'}\n",
        "dict3 = dict1.copy()\n",
        "dict3.update(dict2)\n",
        "print(dict3)"
      ],
      "metadata": {
        "colab": {
          "base_uri": "https://localhost:8080/"
        },
        "id": "6DWIzVy8vM3R",
        "outputId": "e968808f-95f2-493d-89fc-e30e6c7c0229"
      },
      "execution_count": 13,
      "outputs": [
        {
          "output_type": "stream",
          "name": "stdout",
          "text": [
            "{'v1': 'sheetal', 'v2': 'jatti', 'v3': 'neha', 'v4': 'pawar'}\n"
          ]
        }
      ]
    },
    {
      "cell_type": "code",
      "source": [
        "#4. Write a Python program to convert key-values list to flat dictionary?\n"
      ],
      "metadata": {
        "id": "H_08tvajsCVk"
      },
      "execution_count": 4,
      "outputs": []
    },
    {
      "cell_type": "code",
      "source": [
        "def convert_to_flat_dictionary(lst):\n",
        "    flat_dict = {}\n",
        "    for key, value in lst:\n",
        "        flat_dict[key] = value\n",
        "    return flat_dict\n",
        "lst = [('a', 1), ('b', 2), ('c', 3)]\n",
        "\n",
        "result = convert_to_flat_dictionary(lst)\n",
        "print(\"Flat Dictionary:\", result)"
      ],
      "metadata": {
        "colab": {
          "base_uri": "https://localhost:8080/"
        },
        "id": "tux_WhIzwAzk",
        "outputId": "3466a662-523a-44db-8be2-f74ec59448e3"
      },
      "execution_count": 18,
      "outputs": [
        {
          "output_type": "stream",
          "name": "stdout",
          "text": [
            "Flat Dictionary: {'a': 1, 'b': 2, 'c': 3}\n"
          ]
        }
      ]
    },
    {
      "cell_type": "code",
      "source": [
        "#5. Write a Python program to insertion at the beginning in OrderedDict?"
      ],
      "metadata": {
        "id": "g6_YRKgCsow2"
      },
      "execution_count": 5,
      "outputs": []
    },
    {
      "cell_type": "code",
      "source": [
        "from collections import OrderedDict\n",
        "\n",
        "def insert_at_beginning(ordered_dict, key, value):\n",
        "\n",
        "    new_dict = OrderedDict([(key, value)])\n",
        "\n",
        "\n",
        "    new_dict.update(ordered_dict)\n",
        "\n",
        "    return new_dict\n",
        "\n",
        "\n",
        "ordered_dict = OrderedDict([('a', 1), ('b', 2), ('c', 3)])\n",
        "\n",
        "\n",
        "new_key = 'x'\n",
        "new_value = 10\n",
        "\n",
        "result = insert_at_beginning(ordered_dict, new_key, new_value)\n",
        "print(\"OrderedDict after insertion:\", result)\n"
      ],
      "metadata": {
        "colab": {
          "base_uri": "https://localhost:8080/"
        },
        "id": "o38cCs_zy4Zn",
        "outputId": "2392d5b7-9298-4188-ae80-b8dd59740368"
      },
      "execution_count": 19,
      "outputs": [
        {
          "output_type": "stream",
          "name": "stdout",
          "text": [
            "OrderedDict after insertion: OrderedDict([('x', 10), ('a', 1), ('b', 2), ('c', 3)])\n"
          ]
        }
      ]
    },
    {
      "cell_type": "code",
      "source": [
        "#6. Write a Python program to check order of character in string using OrderedDict()?"
      ],
      "metadata": {
        "id": "3gfOyqa0ssMN"
      },
      "execution_count": 6,
      "outputs": []
    },
    {
      "cell_type": "code",
      "source": [
        "from collections import OrderedDict\n",
        "\n",
        "def check_order_of_characters(input_str, pattern):\n",
        "\n",
        "    char_order_dict = OrderedDict.fromkeys(input_str)\n",
        "\n",
        "    pattern_index = 0\n",
        "    for char in char_order_dict:\n",
        "        if pattern_index < len(pattern) and char == pattern[pattern_index]:\n",
        "            pattern_index += 1\n",
        "\n",
        "\n",
        "    return pattern_index == len(pattern)\n",
        "\n",
        "\n",
        "input_string = \"hello world\"\n",
        "pattern_to_check = \"hlo\"\n",
        "\n",
        "\n",
        "result = check_order_of_characters(input_string, pattern_to_check)\n",
        "\n",
        "if result:\n",
        "    print(f\"The characters in the pattern '{pattern_to_check}' are in order.\")\n",
        "else:\n",
        "    print(f\"The characters in the pattern '{pattern_to_check}' are not in order.\")\n"
      ],
      "metadata": {
        "colab": {
          "base_uri": "https://localhost:8080/"
        },
        "id": "SJtiP4-4y428",
        "outputId": "ec686980-497a-4df6-a679-b114fc1415ab"
      },
      "execution_count": 20,
      "outputs": [
        {
          "output_type": "stream",
          "name": "stdout",
          "text": [
            "The characters in the pattern 'hlo' are in order.\n"
          ]
        }
      ]
    },
    {
      "cell_type": "code",
      "source": [
        "#7. Write a Python program to sort Python Dictionaries by Key or Value?"
      ],
      "metadata": {
        "id": "EWTR4CYqsvh1"
      },
      "execution_count": null,
      "outputs": []
    },
    {
      "cell_type": "code",
      "source": [
        "a = {'v1':25, 'v2':15, 'v3':90, 'v4':90 ,'v5':6}\n",
        "print(sorted(a.keys()))\n",
        "print(sorted(a.items()))\n",
        "print(sorted(a.values()))\n",
        "\n",
        "\n"
      ],
      "metadata": {
        "colab": {
          "base_uri": "https://localhost:8080/"
        },
        "id": "U9CjJXdZy5rd",
        "outputId": "cdd9739b-d7f7-4580-b967-fe6abedd115e"
      },
      "execution_count": 24,
      "outputs": [
        {
          "output_type": "stream",
          "name": "stdout",
          "text": [
            "['v1', 'v2', 'v3', 'v4', 'v5']\n",
            "[('v1', 25), ('v2', 15), ('v3', 90), ('v4', 90), ('v5', 6)]\n",
            "[6, 15, 25, 90, 90]\n"
          ]
        }
      ]
    },
    {
      "cell_type": "code",
      "source": [],
      "metadata": {
        "id": "Dmobbu6Hzhxy"
      },
      "execution_count": null,
      "outputs": []
    }
  ]
}